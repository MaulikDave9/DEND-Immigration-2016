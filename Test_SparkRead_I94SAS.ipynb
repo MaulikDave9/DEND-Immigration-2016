{
 "cells": [
  {
   "cell_type": "markdown",
   "metadata": {
    "editable": true
   },
   "source": [
    "\n",
    "#### Read Immigration Dataset in SAS format AND Write as parquet format on S3."
   ]
  },
  {
   "cell_type": "code",
   "execution_count": 1,
   "metadata": {
    "editable": true
   },
   "outputs": [],
   "source": [
    "import pandas as pd\n",
    "import os\n",
    "import configparser\n",
    "from pyspark.sql import SparkSession\n",
    "from datetime import datetime, timedelta, date\n",
    "from pyspark.sql import types as t"
   ]
  },
  {
   "cell_type": "code",
   "execution_count": 2,
   "metadata": {
    "editable": true
   },
   "outputs": [],
   "source": [
    "# AWS credentials from configure file\n",
    "config = configparser.ConfigParser()\n",
    "config.read('dl.cfg')\n",
    "\n",
    "os.environ['AWS_ACCESS_KEY_ID']     = config['AWS']['AWS_ACCESS_KEY_ID']\n",
    "os.environ['AWS_SECRET_ACCESS_KEY'] = config['AWS']['AWS_SECRET_ACCESS_KEY']"
   ]
  },
  {
   "cell_type": "code",
   "execution_count": 3,
   "metadata": {
    "editable": true
   },
   "outputs": [
    {
     "name": "stdout",
     "output_type": "stream",
     "text": [
      "<pyspark.sql.session.SparkSession object at 0x7fd408f99588>\n"
     ]
    }
   ],
   "source": [
    "spark = SparkSession \\\n",
    "        .builder \\\n",
    "        .config(\"spark.jars.packages\",\"saurfang:spark-sas7bdat:2.0.0-s_2.11\")\\\n",
    "        .getOrCreate()\n",
    "\n",
    "print(spark)"
   ]
  },
  {
   "cell_type": "code",
   "execution_count": 41,
   "metadata": {
    "editable": true
   },
   "outputs": [],
   "source": [
    "months = ['apr','aug','dec','feb','jan','jul','jun','mar','may','nov','oct','sep']\n",
    "i94ParquetPath = \"Output_Data/i94.parquet\" #\"s3a://udacity-project-immigration2016-sas-files/\""
   ]
  },
  {
   "cell_type": "code",
   "execution_count": 42,
   "metadata": {
    "editable": true
   },
   "outputs": [
    {
     "name": "stdout",
     "output_type": "stream",
     "text": [
      "../../data/18-83510-I94-Data-2016/i94_apr16_sub.sas7bdat\n",
      "../../data/18-83510-I94-Data-2016/i94_aug16_sub.sas7bdat\n",
      "../../data/18-83510-I94-Data-2016/i94_dec16_sub.sas7bdat\n",
      "../../data/18-83510-I94-Data-2016/i94_feb16_sub.sas7bdat\n",
      "../../data/18-83510-I94-Data-2016/i94_jan16_sub.sas7bdat\n",
      "../../data/18-83510-I94-Data-2016/i94_jul16_sub.sas7bdat\n",
      "../../data/18-83510-I94-Data-2016/i94_jun16_sub.sas7bdat\n",
      "../../data/18-83510-I94-Data-2016/i94_mar16_sub.sas7bdat\n",
      "../../data/18-83510-I94-Data-2016/i94_may16_sub.sas7bdat\n",
      "../../data/18-83510-I94-Data-2016/i94_nov16_sub.sas7bdat\n",
      "../../data/18-83510-I94-Data-2016/i94_oct16_sub.sas7bdat\n",
      "../../data/18-83510-I94-Data-2016/i94_sep16_sub.sas7bdat\n"
     ]
    }
   ],
   "source": [
    "for m in months:\n",
    "    inputf = \"{}{}{}\".format(\"../../data/18-83510-I94-Data-2016/i94_\",m,\"16_sub.sas7bdat\")\n",
    "    print(inputf)\n",
    "    df_spark_i94 = spark.read.format('com.github.saurfang.sas.spark').load(inputf)\n",
    "    df_spark_i94.write.mode('append').partitionBy(\"i94mon\").parquet(i94ParquetPath)"
   ]
  },
  {
   "cell_type": "code",
   "execution_count": 4,
   "metadata": {
    "editable": true
   },
   "outputs": [],
   "source": [
    "i94_table = spark.read.parquet('Output_Data/i94.parquet/i94mon=12.0/part-00000-9b8414f0-7ef9-4394-a1e2-9792dced91eb.c000.snappy.parquet')"
   ]
  },
  {
   "cell_type": "code",
   "execution_count": 5,
   "metadata": {
    "editable": true
   },
   "outputs": [
    {
     "name": "stdout",
     "output_type": "stream",
     "text": [
      "+-----+------+------+------+-------+-------+-------+-------+-------+------+-------+-----+--------+--------+-----+-------+-------+-------+-------+-------+--------+------+------+-------+---------------+-----+--------+\n",
      "|cicid| i94yr|i94cit|i94res|i94port|arrdate|i94mode|i94addr|depdate|i94bir|i94visa|count|dtadfile|visapost|occup|entdepa|entdepd|entdepu|matflag|biryear| dtaddto|gender|insnum|airline|         admnum|fltno|visatype|\n",
      "+-----+------+------+------+-------+-------+-------+-------+-------+------+-------+-----+--------+--------+-----+-------+-------+-------+-------+-------+--------+------+------+-------+---------------+-----+--------+\n",
      "| 46.0|2016.0| 129.0| 129.0|    HOU|20789.0|    1.0|     TX|20802.0|  46.0|    1.0|  1.0|20161201|     MDD| null|      H|      O|   null|      M| 1970.0|05262018|     M|  null|     RS| 9.755413803E10| 7715|      E2|\n",
      "| 56.0|2016.0| 245.0| 245.0|    NEW|20789.0|    1.0|     OH|20835.0|  28.0|    3.0|  1.0|20161201|     BEJ| null|      U|      O|   null|      M| 1988.0|     D/S|     F|  null|     CA| 9.062371823E10|  819|      F1|\n",
      "| 67.0|2016.0| 512.0| 512.0|    PEV|20789.0|    2.0|     MD|20794.0|  48.0|    2.0|  1.0|20161201|     NAS| null|      A|      D|   null|      M| 1968.0|06012017|     M|  5920|   null|8.0105031527E10| null|      B2|\n",
      "| 68.0|2016.0| 512.0| 512.0|    PEV|20789.0|    2.0|     FL|20792.0|  46.0|    2.0|  1.0|20161201|     NAS| null|      A|      D|   null|      M| 1970.0|06012017|     F|  5920|   null|8.0105106727E10| null|      B2|\n",
      "| 69.0|2016.0| 512.0| 512.0|    PEV|20789.0|    2.0|     HI|20792.0|  48.0|    2.0|  1.0|20161201|     NAS| null|      A|      D|   null|      M| 1968.0|06012017|     M|  5920|   null|8.0105107627E10| null|      B2|\n",
      "| 70.0|2016.0| 512.0| 512.0|    PEV|20789.0|    2.0|     FL|20792.0|   9.0|    2.0|  1.0|20161201|     NAS| null|      A|      D|   null|      M| 2007.0|06012017|     F|  5920|   null|8.0105108527E10| null|      B2|\n",
      "| 71.0|2016.0| 512.0| 512.0|    PEV|20789.0|    2.0|     VA|20792.0|  34.0|    2.0|  1.0|20161201|     NAS| null|      A|      D|   null|      M| 1982.0|06012017|     F|  5920|   null|8.0105152527E10| null|      B2|\n",
      "| 72.0|2016.0| 512.0| 512.0|    PEV|20789.0|    2.0|     NY|20792.0|  69.0|    2.0|  1.0|20161201|     NAS| null|      A|      D|   null|      M| 1947.0|06012017|     F|  5920|   null|8.0105153427E10| null|      B2|\n",
      "| 73.0|2016.0| 512.0| 512.0|    PEV|20789.0|    2.0|     NY|20794.0|  66.0|    2.0|  1.0|20161201|     NAS| null|      A|      D|   null|      M| 1950.0|06012017|     F|  5920|   null|8.0105155227E10| null|      B2|\n",
      "| 74.0|2016.0| 512.0| 512.0|    XXX|20789.0|    2.0|     DC|20794.0|  56.0|    2.0|  1.0|20161201|     NAS| null|      A|      D|   null|      M| 1960.0|06012017|     M|  null|   null|8.0105156127E10| null|      B2|\n",
      "| 75.0|2016.0| 512.0| 512.0|    PEV|20789.0|    2.0|     VA|20794.0|   6.0|    2.0|  1.0|20161201|     NAS| null|      A|      D|   null|      M| 2010.0|06012017|     M|  5920|   null|8.0105189127E10| null|      B2|\n",
      "| 76.0|2016.0| 512.0| 512.0|    PEV|20789.0|    2.0|     VA|20794.0|  38.0|    2.0|  1.0|20161201|     NAS| null|      A|      D|   null|      M| 1978.0|06012017|     U|  5920|   null|8.0105190027E10| null|      B2|\n",
      "| 77.0|2016.0| 512.0| 512.0|    PEV|20789.0|    9.0|     NY|20794.0|  40.0|    2.0|  1.0|20161201|     NAS| null|      A|      D|   null|      M| 1976.0|06012017|     M|  5920|   null|8.0105191027E10| null|      B2|\n",
      "| 78.0|2016.0| 512.0| 512.0|    PEV|20789.0|    9.0|     FL|20792.0|  28.0|    2.0|  1.0|20161201|    null| null|      A|      D|   null|      M| 1988.0|06012017|     F|  5920|   null|8.0105217627E10| null|      B2|\n",
      "|106.0|2016.0| 104.0| 104.0|    CHM|20789.0|    9.0|     NJ|   null|  26.0|    2.0|  1.0|20161201|    null| null|      A|   null|   null|   null| 1990.0|02282017|     F|  5319|   null|8.6530066528E10| null|      WT|\n",
      "|107.0|2016.0| 104.0| 104.0|    CHM|20789.0|    9.0|     NJ|   null|  26.0|    2.0|  1.0|20161201|    null| null|      A|   null|   null|   null| 1990.0|02282017|     M|  5319|   null|8.6530067428E10| null|      WT|\n",
      "|108.0|2016.0| 148.0| 112.0|    CHM|20789.0|    9.0|     FL|   null|  26.0|    2.0|  1.0|20161201|    null| null|      A|      W|   null|      M| 1990.0|02282017|     F|  5319|   null|8.6530068328E10| null|      WT|\n",
      "|159.0|2016.0| 135.0| 135.0|    HOU|20789.0|    2.0|     TX|20907.0|  65.0|    1.0|  1.0|20161201|     LND| null|      U|      O|   null|      M| 1951.0|03312018|     M|  null|    G1A| 9.247095473E10|7291A|      E2|\n",
      "|166.0|2016.0| 512.0| 512.0|    PEV|20789.0|    2.0|     FL|20792.0|  37.0|    2.0|  1.0|20161201|     NAS| null|      A|      D|   null|      M| 1979.0|06012017|     F|  5920|   null|8.0105219427E10| null|      B2|\n",
      "|167.0|2016.0| 512.0| 512.0|    PEV|20789.0|    9.0|     HI|20792.0|  24.0|    2.0|  1.0|20161201|     NAS| null|      A|      D|   null|      M| 1992.0|06012017|     F|  5742|   null|8.0105284527E10| null|      B2|\n",
      "+-----+------+------+------+-------+-------+-------+-------+-------+------+-------+-----+--------+--------+-----+-------+-------+-------+-------+-------+--------+------+------+-------+---------------+-----+--------+\n",
      "only showing top 20 rows\n",
      "\n"
     ]
    }
   ],
   "source": [
    "i94_table.show()"
   ]
  },
  {
   "cell_type": "code",
   "execution_count": null,
   "metadata": {
    "editable": true
   },
   "outputs": [],
   "source": []
  }
 ],
 "metadata": {
  "kernelspec": {
   "display_name": "Python 3",
   "language": "python",
   "name": "python3"
  },
  "language_info": {
   "codemirror_mode": {
    "name": "ipython",
    "version": 3
   },
   "file_extension": ".py",
   "mimetype": "text/x-python",
   "name": "python",
   "nbconvert_exporter": "python",
   "pygments_lexer": "ipython3",
   "version": "3.6.3"
  }
 },
 "nbformat": 4,
 "nbformat_minor": 4
}
